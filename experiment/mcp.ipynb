{
 "cells": [
  {
   "cell_type": "code",
   "execution_count": 1,
   "metadata": {},
   "outputs": [],
   "source": [
    "import os\n",
    "import json\n",
    "import pandas as pd\n",
    "import traceback"
   ]
  },
  {
   "cell_type": "code",
   "execution_count": 2,
   "metadata": {},
   "outputs": [],
   "source": [
    "from langchain_openai import ChatOpenAI\n"
   ]
  },
  {
   "cell_type": "code",
   "execution_count": 3,
   "metadata": {},
   "outputs": [
    {
     "data": {
      "text/plain": [
       "True"
      ]
     },
     "execution_count": 3,
     "metadata": {},
     "output_type": "execute_result"
    }
   ],
   "source": [
    "from dotenv import load_dotenv\n",
    "\n",
    "load_dotenv()"
   ]
  },
  {
   "cell_type": "code",
   "execution_count": 4,
   "metadata": {},
   "outputs": [],
   "source": [
    "KEY = os.getenv(\"OPENAI_API_KEY\")"
   ]
  },
  {
   "cell_type": "code",
   "execution_count": 5,
   "metadata": {},
   "outputs": [],
   "source": [
    "# llm = ChatOpenAI(\n",
    "#     openai_api_key=KEY,\n",
    "#     model_name=\"openai/gpt-3.5-turbo\",\n",
    "#     temperature=0.7\n",
    "# )"
   ]
  },
  {
   "cell_type": "code",
   "execution_count": 6,
   "metadata": {},
   "outputs": [],
   "source": [
    "llm = ChatOpenAI(\n",
    "    base_url=\"https://openrouter.ai/api/v1\",\n",
    "    api_key=KEY,\n",
    "    temperature=0.7\n",
    ")"
   ]
  },
  {
   "cell_type": "code",
   "execution_count": 7,
   "metadata": {},
   "outputs": [
    {
     "data": {
      "text/plain": [
       "'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'"
      ]
     },
     "execution_count": 7,
     "metadata": {},
     "output_type": "execute_result"
    }
   ],
   "source": [
    "KEY"
   ]
  },
  {
   "cell_type": "code",
   "execution_count": 8,
   "metadata": {},
   "outputs": [],
   "source": [
    "# llm"
   ]
  },
  {
   "cell_type": "code",
   "execution_count": 9,
   "metadata": {},
   "outputs": [],
   "source": [
    "from langchain.prompts import PromptTemplate\n",
    "from langchain.llms import OpenAI\n",
    "from langchain.chains import LLMChain\n",
    "from langchain.chains import SequentialChain\n",
    "# from langchain.callbacks import get_openai_callback\n",
    "from langchain_community.callbacks.manager import get_openai_callback\n",
    "import PyPDF2"
   ]
  },
  {
   "cell_type": "code",
   "execution_count": 10,
   "metadata": {},
   "outputs": [],
   "source": [
    "RESPONSE_JSON = {\n",
    "    \"1\": {\n",
    "        \"mcq\": \"multiple choice questions\",\n",
    "        \"options\":{\n",
    "            \"a\": \"choice here\",\n",
    "            \"b\": \"choice here\",\n",
    "            \"c\": \"choice here\",\n",
    "            \"d\": \"choice here\"\n",
    "        },\n",
    "        \"correct\": \"correct answer\",\n",
    "    },\n",
    "    \n",
    "    \"2\": {\n",
    "        \"mcq\": \"multiple choice questions\",\n",
    "        \"options\":{\n",
    "            \"a\": \"choice here\",\n",
    "            \"b\": \"choice here\",\n",
    "            \"c\": \"choice here\",\n",
    "            \"d\": \"choice here\"\n",
    "        },\n",
    "        \"correct\": \"correct answer\",\n",
    "    },\n",
    "    \n",
    "    \"3\": {\n",
    "        \"mcq\": \"multiple choice questions\",\n",
    "        \"options\":{\n",
    "            \"a\": \"choice here\",\n",
    "            \"b\": \"choice here\",\n",
    "            \"c\": \"choice here\",\n",
    "            \"d\": \"choice here\"\n",
    "        },\n",
    "        \"correct\": \"correct answer\",\n",
    "    },\n",
    "    \n",
    "}"
   ]
  },
  {
   "cell_type": "code",
   "execution_count": 11,
   "metadata": {},
   "outputs": [],
   "source": [
    "template=\"\"\"\n",
    "Text:{text}\n",
    "You are an expert MCQ maker. Given the above text, it is your job to \\\n",
    "create a quiz  of {number} multiple choice questions for {subject} students in {tone} tone. \n",
    "Make sure the questions are not repeated and check all the questions to be conforming the text as well.\n",
    "Make sure to format your response like  RESPONSE_JSON below  and use it as a guide. \\\n",
    "Ensure to make {number} MCQs\n",
    "### RESPONSE_JSON\n",
    "{response_json}\n",
    "\n",
    "\"\"\""
   ]
  },
  {
   "cell_type": "code",
   "execution_count": 12,
   "metadata": {},
   "outputs": [],
   "source": [
    "quiz_generation_prompt = PromptTemplate(\n",
    "    input_variables=[\"text\", \"number\", \"subject\", \"tone\", \"response_json\"],\n",
    "    template=template\n",
    "    )\n"
   ]
  },
  {
   "cell_type": "code",
   "execution_count": 13,
   "metadata": {},
   "outputs": [],
   "source": [
    "# quiz_chain = LLMChain(llm=llm, prompt=quiz_generation_prompt, output_key=\"quiz\", verbose=True)"
   ]
  },
  {
   "cell_type": "code",
   "execution_count": 14,
   "metadata": {},
   "outputs": [],
   "source": [
    "from langchain.schema.runnable import RunnablePassthrough\n",
    "\n",
    "# Quiz Chain\n",
    "quiz_chain = quiz_generation_prompt | llm"
   ]
  },
  {
   "cell_type": "code",
   "execution_count": 15,
   "metadata": {},
   "outputs": [],
   "source": [
    "template2=\"\"\"\n",
    "You are an expert english grammarian and writer. Given a Multiple Choice Quiz for {subject} students.\\\n",
    "You need to evaluate the complexity of teh question and give a complete analysis of the quiz if the students\n",
    "will be able to unserstand the questions and answer them. Only use at max 50 words for complexity analysis. \n",
    "if the quiz is not at par with the cognitive and analytical abilities of the students,\\\n",
    "update tech quiz questions which needs to be changed  and change the tone such that it perfectly fits the student abilities\n",
    "Quiz_MCQs:\n",
    "{quiz}\n",
    "\n",
    "\n",
    "Check from an expert English Writer of the above quiz:\n",
    "\"\"\""
   ]
  },
  {
   "cell_type": "code",
   "execution_count": 16,
   "metadata": {},
   "outputs": [],
   "source": [
    "quiz_evaluation_prompt = PromptTemplate(\n",
    "    input_variables=[\"subject\", \"quiz\"],\n",
    "    template=template2\n",
    ")"
   ]
  },
  {
   "cell_type": "code",
   "execution_count": 17,
   "metadata": {},
   "outputs": [],
   "source": [
    "# Quiz Review Chain\n",
    "review_chain = quiz_evaluation_prompt | llm"
   ]
  },
  {
   "cell_type": "code",
   "execution_count": 18,
   "metadata": {},
   "outputs": [],
   "source": [
    "# review_chain=LLMChain(llm=llm, prompt=quiz_evaluation_prompt, output_key=\"review\", verbose=True)"
   ]
  },
  {
   "cell_type": "code",
   "execution_count": 19,
   "metadata": {},
   "outputs": [],
   "source": [
    "from langchain.schema.runnable import RunnableLambda, RunnableMap\n",
    "\n",
    "\n",
    "# Define Final RunnableMap\n",
    "generate_evaluate_chain = RunnableMap({\n",
    "    \"quiz\": quiz_chain,  # Runs quiz_chain and stores output as \"quiz\"\n",
    "    \"subject\": lambda x: x[\"subject\"]  # Pass \"subject\" directly\n",
    "}) | review_chain\n"
   ]
  },
  {
   "cell_type": "code",
   "execution_count": 20,
   "metadata": {},
   "outputs": [],
   "source": [
    "# ✅ Fix: Ensure both outputs are returned\n",
    "def run_review_chain(input_data):\n",
    "    \"\"\"Runs review_chain and ensures both quiz and review are returned\"\"\"\n",
    "    quiz_output = input_data[\"quiz\"]\n",
    "    review_output = review_chain.invoke({\"quiz\": quiz_output, \"subject\": input_data[\"subject\"]})\n",
    "    return {\"quiz\": quiz_output, \"review\": review_output}"
   ]
  },
  {
   "cell_type": "code",
   "execution_count": 21,
   "metadata": {},
   "outputs": [],
   "source": [
    "# ✅ Fix: Ensure both quiz and review are captured\n",
    "generate_evaluate_chain = RunnableMap({\n",
    "    \"quiz\": quiz_chain,  # Generate Quiz\n",
    "    \"subject\": lambda x: x[\"subject\"],  # Pass subject\n",
    "}) | RunnableLambda(run_review_chain)  # Run Review and Return Both\n"
   ]
  },
  {
   "cell_type": "code",
   "execution_count": 22,
   "metadata": {},
   "outputs": [],
   "source": [
    "file_path = r\"/home/harshit433/mcqgen/data.txt\""
   ]
  },
  {
   "cell_type": "code",
   "execution_count": 23,
   "metadata": {},
   "outputs": [],
   "source": [
    "with open(file_path, 'r') as file:\n",
    "    TEXT = file.read()"
   ]
  },
  {
   "cell_type": "code",
   "execution_count": 24,
   "metadata": {},
   "outputs": [
    {
     "data": {
      "text/plain": [
       "'Machine learning (ML) is a field of study in artificial intelligence concerned with the development and study of statistical algorithms that can learn from data and generalize to unseen data, and thus perform tasks without explicit instructions.[1] Within a subdiscipline in machine learning, advances in the field of deep learning have allowed neural networks, a class of statistical algorithms, to surpass many previous machine learning approaches in performance.[2]\\n\\nML finds application in many fields, including natural language processing, computer vision, speech recognition, email filtering, agriculture, and medicine.[3][4] The application of ML to business problems is known as predictive analytics.\\n\\nStatistics and mathematical optimization (mathematical programming) methods comprise the foundations of machine learning. Data mining is a related field of study, focusing on exploratory data analysis (EDA) via unsupervised learning.[6][7]\\n\\nFrom a theoretical viewpoint, probably approximately correct learning provides a framework for describing machine learning.\\n\\nHistory\\nSee also: Timeline of machine learning\\nThe term machine learning was coined in 1959 by Arthur Samuel, an IBM employee and pioneer in the field of computer gaming and artificial intelligence.[8][9] The synonym self-teaching computers was also used in this time period.[10][11]\\n\\nAlthough the earliest machine learning model was introduced in the 1950s when Arthur Samuel invented a program that calculated the winning chance in checkers for each side, the history of machine learning roots back to decades of human desire and effort to study human cognitive processes.[12] In 1949, Canadian psychologist Donald Hebb published the book The Organization of Behavior, in which he introduced a theoretical neural structure formed by certain interactions among nerve cells.[13] Hebb\\'s model of neurons interacting with one another set a groundwork for how AIs and machine learning algorithms work under nodes, or artificial neurons used by computers to communicate data.[12] Other researchers who have studied human cognitive systems contributed to the modern machine learning technologies as well, including logician Walter Pitts and Warren McCulloch, who proposed the early mathematical models of neural networks to come up with algorithms that mirror human thought processes.[12]\\n\\nBy the early 1960s, an experimental \"learning machine\" with punched tape memory, called Cybertron, had been developed by Raytheon Company to analyse sonar signals, electrocardiograms, and speech patterns using rudimentary reinforcement learning. It was repetitively \"trained\" by a human operator/teacher to recognize patterns and equipped with a \"goof\" button to cause it to reevaluate incorrect decisions.[14] A representative book on research into machine learning during the 1960s was Nilsson\\'s book on Learning Machines, dealing mostly with machine learning for pattern classification.[15] Interest related to pattern recognition continued into the 1970s, as described by Duda and Hart in 1973.[16] In 1981 a report was given on using teaching strategies so that an artificial neural network learns to recognize 40 characters (26 letters, 10 digits, and 4 special symbols) from a computer terminal.[17]\\n\\nTom M. Mitchell provided a widely quoted, more formal definition of the algorithms studied in the machine learning field: \"A computer program is said to learn from experience E with respect to some class of tasks T and performance measure P if its performance at tasks in T, as measured by P, improves with experience E.\"[18] This definition of the tasks in which machine learning is concerned offers a fundamentally operational definition rather than defining the field in cognitive terms. This follows Alan Turing\\'s proposal in his paper \"Computing Machinery and Intelligence\", in which the question \"Can machines think?\" is replaced with the question \"Can machines do what we (as thinking entities) can do?\".[19]\\n\\nModern-day machine learning has two objectives. One is to classify data based on models which have been developed; the other purpose is to make predictions for future outcomes based on these models. A hypothetical algorithm specific to classifying data may use computer vision of moles coupled with supervised learning in order to train it to classify the cancerous moles. A machine learning algorithm for stock trading may inform the trader of future potential predictions.[20]\\n\\n'"
      ]
     },
     "execution_count": 24,
     "metadata": {},
     "output_type": "execute_result"
    }
   ],
   "source": [
    "TEXT"
   ]
  },
  {
   "cell_type": "code",
   "execution_count": 25,
   "metadata": {},
   "outputs": [
    {
     "data": {
      "text/plain": [
       "'{\"1\": {\"mcq\": \"multiple choice questions\", \"options\": {\"a\": \"choice here\", \"b\": \"choice here\", \"c\": \"choice here\", \"d\": \"choice here\"}, \"correct\": \"correct answer\"}, \"2\": {\"mcq\": \"multiple choice questions\", \"options\": {\"a\": \"choice here\", \"b\": \"choice here\", \"c\": \"choice here\", \"d\": \"choice here\"}, \"correct\": \"correct answer\"}, \"3\": {\"mcq\": \"multiple choice questions\", \"options\": {\"a\": \"choice here\", \"b\": \"choice here\", \"c\": \"choice here\", \"d\": \"choice here\"}, \"correct\": \"correct answer\"}}'"
      ]
     },
     "execution_count": 25,
     "metadata": {},
     "output_type": "execute_result"
    }
   ],
   "source": [
    "json.dumps(RESPONSE_JSON)"
   ]
  },
  {
   "cell_type": "code",
   "execution_count": 26,
   "metadata": {},
   "outputs": [],
   "source": [
    "NUMBER=5\n",
    "SUBJECT=\"machine learning\"\n",
    "TONE=\"simple\""
   ]
  },
  {
   "cell_type": "code",
   "execution_count": 27,
   "metadata": {},
   "outputs": [],
   "source": [
    "# Execute with Callback\n",
    "with get_openai_callback() as cb:\n",
    "    response = generate_evaluate_chain.invoke({\n",
    "        \"text\": TEXT,\n",
    "        \"number\": NUMBER,\n",
    "        \"subject\": SUBJECT,\n",
    "        \"tone\": TONE,\n",
    "        \"response_json\": json.dumps(RESPONSE_JSON)\n",
    "    })"
   ]
  },
  {
   "cell_type": "code",
   "execution_count": 28,
   "metadata": {},
   "outputs": [
    {
     "name": "stdout",
     "output_type": "stream",
     "text": [
      "Total Tokens: 2339\n",
      "Prompt Tokens: 1868\n",
      "Completion Tokens: 471\n",
      "Total Cost: 0.0\n"
     ]
    }
   ],
   "source": [
    "print(f\"Total Tokens: {cb.total_tokens}\") \n",
    "print(f\"Prompt Tokens: {cb.prompt_tokens}\") \n",
    "print(f\"Completion Tokens: {cb.completion_tokens}\" )\n",
    "print(f\"Total Cost: {cb.total_cost}\") "
   ]
  },
  {
   "cell_type": "code",
   "execution_count": 29,
   "metadata": {},
   "outputs": [
    {
     "data": {
      "text/plain": [
       "{'quiz': AIMessage(content='\\n{\\n  \"1\": {\\n    \"mcq\": \"What is machine learning focused on?\",\\n    \"options\": {\\n      \"a\": \"Development of neural networks\",\\n      \"b\": \"Development and study of statistical algorithms\",\\n      \"c\": \"Development of computer vision\",\\n      \"d\": \"Development of email filtering systems\"\\n    },\\n    \"correct\": \"b\"\\n  },\\n  \"2\": {\\n    \"mcq\": \"Which field of study focuses on exploratory data analysis via unsupervised learning?\",\\n    \"options\": {\\n      \"a\": \"Machine learning\",\\n      \"b\": \"Deep learning\",\\n      \"c\": \"Natural language processing\",\\n      \"d\": \"Data mining\"\\n    },\\n    \"correct\": \"d\"\\n  },\\n  \"3\": {\\n    \"mcq\": \"Who coined the term \\'machine learning\\' in 1959?\",\\n    \"options\": {\\n      \"a\": \"Donald Hebb\",\\n      \"b\": \"Tom M. Mitchell\",\\n      \"c\": \"Arthur Samuel\",\\n      \"d\": \"Alan Turing\"\\n    },\\n    \"correct\": \"c\"\\n  },\\n  \"4\": {\\n    \"mcq\": \"What was the purpose of the experimental \\'learning machine\\' Cybertron developed by Raytheon Company in the early 1960s?\",\\n    \"options\": {\\n      \"a\": \"To play chess\",\\n      \"b\": \"To analyze sonar signals, electrocardiograms, and speech patterns\",\\n      \"c\": \"To recognize patterns in nature\",\\n      \"d\": \"To study human cognitive processes\"\\n    },\\n    \"correct\": \"b\"\\n  },\\n  \"5\": {\\n    \"mcq\": \"What is one of the objectives of modern-day machine learning?\",\\n    \"options\": {\\n      \"a\": \"To develop new programming languages\",\\n      \"b\": \"To classify data based on developed models\",\\n      \"c\": \"To create virtual reality simulations\",\\n      \"d\": \"To predict future stock prices\"\\n    },\\n    \"correct\": \"b\"\\n  }\\n}', additional_kwargs={'refusal': None}, response_metadata={'token_usage': {'completion_tokens': 421, 'prompt_tokens': 1096, 'total_tokens': 1517, 'completion_tokens_details': None, 'prompt_tokens_details': None}, 'model_name': 'openai/gpt-3.5-turbo', 'system_fingerprint': None, 'finish_reason': 'stop', 'logprobs': None}, id='run-b9365975-6af5-4d5b-971e-e06322756db8-0', usage_metadata={'input_tokens': 1096, 'output_tokens': 421, 'total_tokens': 1517}),\n",
       " 'review': AIMessage(content='The quiz questions are suitable for machine learning students. They are clear and directly test knowledge of key concepts in the field. The tone is appropriate for the audience. No changes are needed. Students should be able to understand and answer the questions effectively.', additional_kwargs={'refusal': None}, response_metadata={'token_usage': {'completion_tokens': 50, 'prompt_tokens': 772, 'total_tokens': 822, 'completion_tokens_details': None, 'prompt_tokens_details': None}, 'model_name': 'openai/gpt-3.5-turbo', 'system_fingerprint': None, 'finish_reason': 'stop', 'logprobs': None}, id='run-58d6a794-689a-474a-b11d-d60bb6ef2db2-0', usage_metadata={'input_tokens': 772, 'output_tokens': 50, 'total_tokens': 822})}"
      ]
     },
     "execution_count": 29,
     "metadata": {},
     "output_type": "execute_result"
    }
   ],
   "source": [
    "response"
   ]
  },
  {
   "cell_type": "code",
   "execution_count": 30,
   "metadata": {},
   "outputs": [],
   "source": [
    "quiz = response.get(\"quiz\")"
   ]
  },
  {
   "cell_type": "code",
   "execution_count": 31,
   "metadata": {},
   "outputs": [],
   "source": [
    "import json\n",
    "from langchain_core.messages.ai import AIMessage"
   ]
  },
  {
   "cell_type": "code",
   "execution_count": 32,
   "metadata": {},
   "outputs": [
    {
     "data": {
      "text/plain": [
       "AIMessage(content='\\n{\\n  \"1\": {\\n    \"mcq\": \"What is machine learning focused on?\",\\n    \"options\": {\\n      \"a\": \"Development of neural networks\",\\n      \"b\": \"Development and study of statistical algorithms\",\\n      \"c\": \"Development of computer vision\",\\n      \"d\": \"Development of email filtering systems\"\\n    },\\n    \"correct\": \"b\"\\n  },\\n  \"2\": {\\n    \"mcq\": \"Which field of study focuses on exploratory data analysis via unsupervised learning?\",\\n    \"options\": {\\n      \"a\": \"Machine learning\",\\n      \"b\": \"Deep learning\",\\n      \"c\": \"Natural language processing\",\\n      \"d\": \"Data mining\"\\n    },\\n    \"correct\": \"d\"\\n  },\\n  \"3\": {\\n    \"mcq\": \"Who coined the term \\'machine learning\\' in 1959?\",\\n    \"options\": {\\n      \"a\": \"Donald Hebb\",\\n      \"b\": \"Tom M. Mitchell\",\\n      \"c\": \"Arthur Samuel\",\\n      \"d\": \"Alan Turing\"\\n    },\\n    \"correct\": \"c\"\\n  },\\n  \"4\": {\\n    \"mcq\": \"What was the purpose of the experimental \\'learning machine\\' Cybertron developed by Raytheon Company in the early 1960s?\",\\n    \"options\": {\\n      \"a\": \"To play chess\",\\n      \"b\": \"To analyze sonar signals, electrocardiograms, and speech patterns\",\\n      \"c\": \"To recognize patterns in nature\",\\n      \"d\": \"To study human cognitive processes\"\\n    },\\n    \"correct\": \"b\"\\n  },\\n  \"5\": {\\n    \"mcq\": \"What is one of the objectives of modern-day machine learning?\",\\n    \"options\": {\\n      \"a\": \"To develop new programming languages\",\\n      \"b\": \"To classify data based on developed models\",\\n      \"c\": \"To create virtual reality simulations\",\\n      \"d\": \"To predict future stock prices\"\\n    },\\n    \"correct\": \"b\"\\n  }\\n}', additional_kwargs={'refusal': None}, response_metadata={'token_usage': {'completion_tokens': 421, 'prompt_tokens': 1096, 'total_tokens': 1517, 'completion_tokens_details': None, 'prompt_tokens_details': None}, 'model_name': 'openai/gpt-3.5-turbo', 'system_fingerprint': None, 'finish_reason': 'stop', 'logprobs': None}, id='run-b9365975-6af5-4d5b-971e-e06322756db8-0', usage_metadata={'input_tokens': 1096, 'output_tokens': 421, 'total_tokens': 1517})"
      ]
     },
     "execution_count": 32,
     "metadata": {},
     "output_type": "execute_result"
    }
   ],
   "source": [
    "quiz"
   ]
  },
  {
   "cell_type": "code",
   "execution_count": 33,
   "metadata": {},
   "outputs": [
    {
     "name": "stdout",
     "output_type": "stream",
     "text": [
      "{\n",
      "    \"1\": {\n",
      "        \"mcq\": \"What is machine learning focused on?\",\n",
      "        \"options\": {\n",
      "            \"a\": \"Development of neural networks\",\n",
      "            \"b\": \"Development and study of statistical algorithms\",\n",
      "            \"c\": \"Development of computer vision\",\n",
      "            \"d\": \"Development of email filtering systems\"\n",
      "        },\n",
      "        \"correct\": \"b\"\n",
      "    },\n",
      "    \"2\": {\n",
      "        \"mcq\": \"Which field of study focuses on exploratory data analysis via unsupervised learning?\",\n",
      "        \"options\": {\n",
      "            \"a\": \"Machine learning\",\n",
      "            \"b\": \"Deep learning\",\n",
      "            \"c\": \"Natural language processing\",\n",
      "            \"d\": \"Data mining\"\n",
      "        },\n",
      "        \"correct\": \"d\"\n",
      "    },\n",
      "    \"3\": {\n",
      "        \"mcq\": \"Who coined the term 'machine learning' in 1959?\",\n",
      "        \"options\": {\n",
      "            \"a\": \"Donald Hebb\",\n",
      "            \"b\": \"Tom M. Mitchell\",\n",
      "            \"c\": \"Arthur Samuel\",\n",
      "            \"d\": \"Alan Turing\"\n",
      "        },\n",
      "        \"correct\": \"c\"\n",
      "    },\n",
      "    \"4\": {\n",
      "        \"mcq\": \"What was the purpose of the experimental 'learning machine' Cybertron developed by Raytheon Company in the early 1960s?\",\n",
      "        \"options\": {\n",
      "            \"a\": \"To play chess\",\n",
      "            \"b\": \"To analyze sonar signals, electrocardiograms, and speech patterns\",\n",
      "            \"c\": \"To recognize patterns in nature\",\n",
      "            \"d\": \"To study human cognitive processes\"\n",
      "        },\n",
      "        \"correct\": \"b\"\n",
      "    },\n",
      "    \"5\": {\n",
      "        \"mcq\": \"What is one of the objectives of modern-day machine learning?\",\n",
      "        \"options\": {\n",
      "            \"a\": \"To develop new programming languages\",\n",
      "            \"b\": \"To classify data based on developed models\",\n",
      "            \"c\": \"To create virtual reality simulations\",\n",
      "            \"d\": \"To predict future stock prices\"\n",
      "        },\n",
      "        \"correct\": \"b\"\n",
      "    }\n",
      "}\n"
     ]
    }
   ],
   "source": [
    "# Convert AIMessage content to JSON\n",
    "quiz_dict = json.loads(quiz.content)  # Parse string into dictionary\n",
    "\n",
    "# Print formatted JSON output\n",
    "print(json.dumps(quiz_dict, indent=4))"
   ]
  },
  {
   "cell_type": "code",
   "execution_count": 34,
   "metadata": {},
   "outputs": [
    {
     "data": {
      "text/plain": [
       "langchain_core.messages.ai.AIMessage"
      ]
     },
     "execution_count": 34,
     "metadata": {},
     "output_type": "execute_result"
    }
   ],
   "source": [
    "type(quiz)"
   ]
  },
  {
   "cell_type": "code",
   "execution_count": 35,
   "metadata": {},
   "outputs": [
    {
     "name": "stdout",
     "output_type": "stream",
     "text": [
      "Generated Quiz:\n",
      " content='\\n{\\n  \"1\": {\\n    \"mcq\": \"What is machine learning focused on?\",\\n    \"options\": {\\n      \"a\": \"Development of neural networks\",\\n      \"b\": \"Development and study of statistical algorithms\",\\n      \"c\": \"Development of computer vision\",\\n      \"d\": \"Development of email filtering systems\"\\n    },\\n    \"correct\": \"b\"\\n  },\\n  \"2\": {\\n    \"mcq\": \"Which field of study focuses on exploratory data analysis via unsupervised learning?\",\\n    \"options\": {\\n      \"a\": \"Machine learning\",\\n      \"b\": \"Deep learning\",\\n      \"c\": \"Natural language processing\",\\n      \"d\": \"Data mining\"\\n    },\\n    \"correct\": \"d\"\\n  },\\n  \"3\": {\\n    \"mcq\": \"Who coined the term \\'machine learning\\' in 1959?\",\\n    \"options\": {\\n      \"a\": \"Donald Hebb\",\\n      \"b\": \"Tom M. Mitchell\",\\n      \"c\": \"Arthur Samuel\",\\n      \"d\": \"Alan Turing\"\\n    },\\n    \"correct\": \"c\"\\n  },\\n  \"4\": {\\n    \"mcq\": \"What was the purpose of the experimental \\'learning machine\\' Cybertron developed by Raytheon Company in the early 1960s?\",\\n    \"options\": {\\n      \"a\": \"To play chess\",\\n      \"b\": \"To analyze sonar signals, electrocardiograms, and speech patterns\",\\n      \"c\": \"To recognize patterns in nature\",\\n      \"d\": \"To study human cognitive processes\"\\n    },\\n    \"correct\": \"b\"\\n  },\\n  \"5\": {\\n    \"mcq\": \"What is one of the objectives of modern-day machine learning?\",\\n    \"options\": {\\n      \"a\": \"To develop new programming languages\",\\n      \"b\": \"To classify data based on developed models\",\\n      \"c\": \"To create virtual reality simulations\",\\n      \"d\": \"To predict future stock prices\"\\n    },\\n    \"correct\": \"b\"\\n  }\\n}' additional_kwargs={'refusal': None} response_metadata={'token_usage': {'completion_tokens': 421, 'prompt_tokens': 1096, 'total_tokens': 1517, 'completion_tokens_details': None, 'prompt_tokens_details': None}, 'model_name': 'openai/gpt-3.5-turbo', 'system_fingerprint': None, 'finish_reason': 'stop', 'logprobs': None} id='run-b9365975-6af5-4d5b-971e-e06322756db8-0' usage_metadata={'input_tokens': 1096, 'output_tokens': 421, 'total_tokens': 1517}\n",
      "\n",
      "Evaluation Review:\n",
      " content='The quiz questions are suitable for machine learning students. They are clear and directly test knowledge of key concepts in the field. The tone is appropriate for the audience. No changes are needed. Students should be able to understand and answer the questions effectively.' additional_kwargs={'refusal': None} response_metadata={'token_usage': {'completion_tokens': 50, 'prompt_tokens': 772, 'total_tokens': 822, 'completion_tokens_details': None, 'prompt_tokens_details': None}, 'model_name': 'openai/gpt-3.5-turbo', 'system_fingerprint': None, 'finish_reason': 'stop', 'logprobs': None} id='run-58d6a794-689a-474a-b11d-d60bb6ef2db2-0' usage_metadata={'input_tokens': 772, 'output_tokens': 50, 'total_tokens': 822}\n"
     ]
    }
   ],
   "source": [
    "# ✅ Print the complete response\n",
    "print(\"Generated Quiz:\\n\", response[\"quiz\"])\n",
    "print(\"\\nEvaluation Review:\\n\", response[\"review\"])\n"
   ]
  },
  {
   "cell_type": "code",
   "execution_count": 36,
   "metadata": {},
   "outputs": [],
   "source": [
    "# This is an Overall Chain where we run the two chains in Sequence\n",
    "# generate_evaluate_chain=SequentialChain(chains=[quiz_chain, review_chain], input_variables=[\"text\", \"number\", \"subject\", \"tone\", \"response_json\"],\n",
    "#                                         output_variables=[\"quiz\", \"review\"], verbose=True,)"
   ]
  },
  {
   "cell_type": "code",
   "execution_count": 37,
   "metadata": {},
   "outputs": [],
   "source": [
    "quiz_table_data = []\n",
    "for key, value in quiz_dict.items():\n",
    "    mcq = value[\"mcq\"]\n",
    "    options = \" | \".join(\n",
    "        [\n",
    "            f\"{option}: {option_value}\"\n",
    "            for option, option_value in value[\"options\"].items()\n",
    "            ]\n",
    "        )\n",
    "    correct = value[\"correct\"]\n",
    "    quiz_table_data.append({\"MCQ\": mcq, \"Choices\": options, \"Correct\": correct})"
   ]
  },
  {
   "cell_type": "code",
   "execution_count": 38,
   "metadata": {},
   "outputs": [
    {
     "data": {
      "text/plain": [
       "[{'MCQ': 'What is machine learning focused on?',\n",
       "  'Choices': 'a: Development of neural networks | b: Development and study of statistical algorithms | c: Development of computer vision | d: Development of email filtering systems',\n",
       "  'Correct': 'b'},\n",
       " {'MCQ': 'Which field of study focuses on exploratory data analysis via unsupervised learning?',\n",
       "  'Choices': 'a: Machine learning | b: Deep learning | c: Natural language processing | d: Data mining',\n",
       "  'Correct': 'd'},\n",
       " {'MCQ': \"Who coined the term 'machine learning' in 1959?\",\n",
       "  'Choices': 'a: Donald Hebb | b: Tom M. Mitchell | c: Arthur Samuel | d: Alan Turing',\n",
       "  'Correct': 'c'},\n",
       " {'MCQ': \"What was the purpose of the experimental 'learning machine' Cybertron developed by Raytheon Company in the early 1960s?\",\n",
       "  'Choices': 'a: To play chess | b: To analyze sonar signals, electrocardiograms, and speech patterns | c: To recognize patterns in nature | d: To study human cognitive processes',\n",
       "  'Correct': 'b'},\n",
       " {'MCQ': 'What is one of the objectives of modern-day machine learning?',\n",
       "  'Choices': 'a: To develop new programming languages | b: To classify data based on developed models | c: To create virtual reality simulations | d: To predict future stock prices',\n",
       "  'Correct': 'b'}]"
      ]
     },
     "execution_count": 38,
     "metadata": {},
     "output_type": "execute_result"
    }
   ],
   "source": [
    "quiz_table_data"
   ]
  },
  {
   "cell_type": "code",
   "execution_count": 39,
   "metadata": {},
   "outputs": [],
   "source": [
    "df=pd.DataFrame(quiz_table_data)"
   ]
  },
  {
   "cell_type": "code",
   "execution_count": 40,
   "metadata": {},
   "outputs": [
    {
     "data": {
      "text/html": [
       "<div>\n",
       "<style scoped>\n",
       "    .dataframe tbody tr th:only-of-type {\n",
       "        vertical-align: middle;\n",
       "    }\n",
       "\n",
       "    .dataframe tbody tr th {\n",
       "        vertical-align: top;\n",
       "    }\n",
       "\n",
       "    .dataframe thead th {\n",
       "        text-align: right;\n",
       "    }\n",
       "</style>\n",
       "<table border=\"1\" class=\"dataframe\">\n",
       "  <thead>\n",
       "    <tr style=\"text-align: right;\">\n",
       "      <th></th>\n",
       "      <th>MCQ</th>\n",
       "      <th>Choices</th>\n",
       "      <th>Correct</th>\n",
       "    </tr>\n",
       "  </thead>\n",
       "  <tbody>\n",
       "    <tr>\n",
       "      <th>0</th>\n",
       "      <td>What is machine learning focused on?</td>\n",
       "      <td>a: Development of neural networks | b: Develop...</td>\n",
       "      <td>b</td>\n",
       "    </tr>\n",
       "    <tr>\n",
       "      <th>1</th>\n",
       "      <td>Which field of study focuses on exploratory da...</td>\n",
       "      <td>a: Machine learning | b: Deep learning | c: Na...</td>\n",
       "      <td>d</td>\n",
       "    </tr>\n",
       "    <tr>\n",
       "      <th>2</th>\n",
       "      <td>Who coined the term 'machine learning' in 1959?</td>\n",
       "      <td>a: Donald Hebb | b: Tom M. Mitchell | c: Arthu...</td>\n",
       "      <td>c</td>\n",
       "    </tr>\n",
       "    <tr>\n",
       "      <th>3</th>\n",
       "      <td>What was the purpose of the experimental 'lear...</td>\n",
       "      <td>a: To play chess | b: To analyze sonar signals...</td>\n",
       "      <td>b</td>\n",
       "    </tr>\n",
       "    <tr>\n",
       "      <th>4</th>\n",
       "      <td>What is one of the objectives of modern-day ma...</td>\n",
       "      <td>a: To develop new programming languages | b: T...</td>\n",
       "      <td>b</td>\n",
       "    </tr>\n",
       "  </tbody>\n",
       "</table>\n",
       "</div>"
      ],
      "text/plain": [
       "                                                 MCQ  \\\n",
       "0               What is machine learning focused on?   \n",
       "1  Which field of study focuses on exploratory da...   \n",
       "2    Who coined the term 'machine learning' in 1959?   \n",
       "3  What was the purpose of the experimental 'lear...   \n",
       "4  What is one of the objectives of modern-day ma...   \n",
       "\n",
       "                                             Choices Correct  \n",
       "0  a: Development of neural networks | b: Develop...       b  \n",
       "1  a: Machine learning | b: Deep learning | c: Na...       d  \n",
       "2  a: Donald Hebb | b: Tom M. Mitchell | c: Arthu...       c  \n",
       "3  a: To play chess | b: To analyze sonar signals...       b  \n",
       "4  a: To develop new programming languages | b: T...       b  "
      ]
     },
     "execution_count": 40,
     "metadata": {},
     "output_type": "execute_result"
    }
   ],
   "source": [
    "df"
   ]
  },
  {
   "cell_type": "code",
   "execution_count": 41,
   "metadata": {},
   "outputs": [],
   "source": [
    "df.to_csv(\"machinelearning.csv\",index=False)"
   ]
  },
  {
   "cell_type": "code",
   "execution_count": null,
   "metadata": {},
   "outputs": [],
   "source": []
  },
  {
   "cell_type": "code",
   "execution_count": 47,
   "metadata": {},
   "outputs": [
    {
     "data": {
      "text/plain": [
       "datetime.datetime(2025, 3, 13, 12, 40, 41, 812762)"
      ]
     },
     "execution_count": 47,
     "metadata": {},
     "output_type": "execute_result"
    }
   ],
   "source": [
    "from datetime import datetime\n",
    "\n",
    "datetime.now()"
   ]
  },
  {
   "cell_type": "code",
   "execution_count": null,
   "metadata": {},
   "outputs": [],
   "source": []
  }
 ],
 "metadata": {
  "kernelspec": {
   "display_name": "Python 3",
   "language": "python",
   "name": "python3"
  },
  "language_info": {
   "codemirror_mode": {
    "name": "ipython",
    "version": 3
   },
   "file_extension": ".py",
   "mimetype": "text/x-python",
   "name": "python",
   "nbconvert_exporter": "python",
   "pygments_lexer": "ipython3",
   "version": "3.8.20"
  }
 },
 "nbformat": 4,
 "nbformat_minor": 2
}
